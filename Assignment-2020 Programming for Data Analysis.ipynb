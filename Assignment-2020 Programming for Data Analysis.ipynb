{
 "cells": [
  {
   "cell_type": "markdown",
   "metadata": {},
   "source": [
    "***\n",
    "## Title\n",
    "\n",
    "Programming for Data Analysis - Assignment 2020.  \n",
    "Submitted by ***Jack Caffrey***\n",
    "***\n",
    "\n",
    "## Introduction\n",
    "\n",
    "The following assignment was undertaking as part of the Higher Diploma in Science - Data Analytics course through the Galway-Mayo Institute of Technology, for the module Programming for Data Analysis. \n",
    "\n",
    "***Please note the following:***\n",
    "1. The assignment critera will be outlined in the below ***Problem Statement*** section of the assignment.  \n",
    "2. All reference will be indicated using [#]. These references will be listed in the ***References*** section of this assignment.\n",
    "3. Markdown formatting references are as follows.   \n",
    "     * Basic Syntax. Matt Cone. https://www.markdownguide.org/basic-syntax/\n",
    "\n",
    "### Problem Statement\n",
    "\n",
    "Using a Jupyter notebook explain the use on the ***numpy.random*** package in Python.  \n",
    "This explanation must include the following:  \n",
    "\n",
    "1. The **purpose** of the package. \n",
    "2. The use of the **\"Simple random data\"** and **\"Permutations\"** functions.   \n",
    "3. The use and purpose of at least five **\"Distributions\"** functions.   \n",
    "4. Explain the use of **\"seeds\"** in generating pseudorandom numbers.   \n",
    "\n",
    "***Note:***  \n",
    "The problem statement was defined using the critera outlined in the Programming for Data Analysis Assignment [1]\n",
    "\n",
    "***\n",
    "\n"
   ]
  },
  {
   "cell_type": "markdown",
   "metadata": {},
   "source": [
    "## 1. History of NumPy. \n",
    "\n",
    "Before exploring the purpose of the ***numpy.random*** package it is important to provide a brief history of the development of the ***NumPy*** package as a whole.  \n",
    "  \n",
    "The ***NumPy*** package developed from the Python programmming language extensions ***Numeric*** and ***Numarray*** [2]. Numeric was largely developed by Jim Hugunin a software programmer in 1995, with contributions from many people including Jim Fulton, David Ascher, Paul DuBois, Konard Hinsen [3].  \n",
    "Numeric was originally developed with maximum performance as it's main aim. A consicence of solely focusing efforts on maximum performance, resulted in design choices that meant Numeric was not extremely efficient for very large data sets [4]. (A date set is \"*a collection of related sets of information that is composed of separate elements but can be manipulated as a unit by a computer*\") [5].  \n",
    "  \n",
    "As a result of this poor efficiency when dealing with large data sets the Numarray package was developed. Numarray was developed to have faster operating speeds for larger data sets when compared to Numeric, but this lead to Numarray having slower operating speeds for smaller data sets versus Numeric. This lead to both packages being used simultaneoulsy depending on the desired output [6].  \n",
    "\n",
    "At the beginning of 2005, an American Data Scientist and Businessman Travis Oliphant [7] wanted to develop a single array package (An array \"*is a data structure consisting of a collection of elements, each identified by at least one array index or key.*\") [8]. The creation of this single package was called *SciPy core*, with the intention to implement this as part of the bigger scientific package *SciPy*. This approach lead to confusion of how the package operated, resulting in the name change to *numerix*. The *numerix* name was already trademarked by another organisation, as a result of this trademarking another name change was required and the package ***NumPy*** was born. [9]. \n",
    "\n",
    "### What is NumPy\n",
    "\n",
    "............\n",
    "\n"
   ]
  },
  {
   "cell_type": "markdown",
   "metadata": {},
   "source": [
    "***\n",
    "### References\n",
    "[1] ProgDA_Assignment. GMIT.  \n",
    "[2] People / Jim Hugunin. Peoplepill. https://peoplepill.com/people/jim-hugunin/      \n",
    "[3] The birth of Numeric.  SciPy History_of_SciPy. https://scipy.github.io/old-wiki/pages/History_of_SciPy    \n",
    "[4] Python Numeric. History. http://people.csail.mit.edu/jrennie/python/numeric/    \n",
    "[5] Definitions from Oxford Languages. Dictionary. https://www.google.com/search?client=firefox-b-d&q=what+is+a+data+set  \n",
    "[6] NumPy. History. https://en.wikipedia.org/wiki/NumPy  \n",
    "[7] People / Travis Oliphant. Peoplepill. https://peoplepill.com/people/travis-oliphant/  \n",
    "[8] Array data structure. Wikipedia. https://en.wikipedia.org/wiki/Array_data_structure  \n",
    "[9] The reunion, aka the birth of NumPy. SciPy History_of_SciPy. https://scipy.github.io/old-wiki/pages/History_of_SciPy      \n",
    "***"
   ]
  }
 ],
 "metadata": {
  "kernelspec": {
   "display_name": "Python 3",
   "language": "python",
   "name": "python3"
  },
  "language_info": {
   "codemirror_mode": {
    "name": "ipython",
    "version": 3
   },
   "file_extension": ".py",
   "mimetype": "text/x-python",
   "name": "python",
   "nbconvert_exporter": "python",
   "pygments_lexer": "ipython3",
   "version": "3.8.3"
  }
 },
 "nbformat": 4,
 "nbformat_minor": 4
}
