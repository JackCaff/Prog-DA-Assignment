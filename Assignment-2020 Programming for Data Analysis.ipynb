{
 "cells": [
  {
   "cell_type": "markdown",
   "metadata": {},
   "source": [
    "***\n",
    "## Title\n",
    "\n",
    "Programming for Data Analysis - Assignment 2020.  \n",
    "Submitted by ***Jack Caffrey***\n",
    "***\n",
    "\n",
    "## Introduction\n",
    "\n",
    "The following assignment was undertaken as part of the Higher Diploma in Science - Data Analytics course through the Galway-Mayo Institute of Technology, for the module Programming for Data Analysis. \n",
    "\n",
    "***Please note the following:***\n",
    "1. The assignment critera will be outlined in the below ***Problem Statement*** section of the assignment.  \n",
    "2. All reference will be indicated using [#]. These references will be listed in the ***References*** section of this assignment.\n",
    "3. Markdown formatting references are as follows.   \n",
    "     * Basic Syntax. Matt Cone. https://www.markdownguide.org/basic-syntax/\n",
    "\n",
    "### Problem Statement\n",
    "\n",
    "Using a Jupyter notebook explain the use on the ***numpy.random*** package in Python.  \n",
    "This explanation must include the following:  \n",
    "\n",
    "1. The **purpose** of the package. \n",
    "2. The use of the **\"Simple random data\"** and **\"Permutations\"** functions.   \n",
    "3. The use and purpose of at least five **\"Distributions\"** functions.   \n",
    "4. Explain the use of **\"seeds\"** in generating pseudorandom numbers.   \n",
    "\n",
    "***Note:***  \n",
    "The problem statement was defined using the critera outlined in the Programming for Data Analysis Assignment [1]\n",
    "\n",
    "***\n",
    "\n"
   ]
  },
  {
   "cell_type": "markdown",
   "metadata": {},
   "source": [
    "## 1. History of NumPy. \n",
    "\n",
    "Before exploring the purpose of the ***numpy.random*** package it is important to provide a brief history of the development of the ***NumPy*** package as a whole.  \n",
    "  \n",
    "The ***NumPy*** package developed from the Python programmming language extensions ***Numeric*** and ***Numarray*** [2]. Numeric was largely developed by Jim Hugunin a software programmer in 1995, with contributions from many people including Jim Fulton, David Ascher, Paul DuBois, Konard Hinsen [3].  \n",
    "Numeric was originally developed with maximum performance as it's main aim. A consicence of solely focusing efforts on maximum performance, resulted in design choices that meant Numeric was not extremely efficient for very large data sets [4]. (A date set is \"*a collection of related sets of information that is composed of separate elements but can be manipulated as a unit by a computer*\") [5].  \n",
    "  \n",
    "As a result of this poor efficiency when dealing with large data sets the Numarray package was developed. Numarray was developed to have faster operating speeds for larger data sets when compared to Numeric, but this lead to Numarray having slower operating speeds for smaller data sets versus Numeric. This lead to both packages being used simultaneoulsy depending on the desired output [6].  \n",
    "\n",
    "At the beginning of 2005, an American Data Scientist and Businessman Travis Oliphant [7] wanted to develop a single array package (An array \"*is a data structure consisting of a collection of elements, each identified by at least one array index or key.*\") [8]. The creation of this single package was called *SciPy core*, with the intention to implement this as part of the bigger scientific package *SciPy*. This approach lead to confusion of how the package operated, resulting in the name change to *numerix*. The *numerix* name was already trademarked by another organisation, as a result of this trademarking another name change was required and the package ***NumPy*** was born. [9]. \n",
    "\n",
    "### What is NumPy?\n",
    "\n",
    "Numpy is described as \"the fundamental package for scientific computing in Python\". It is through this Python library that is possible to complete fast operations on arrays including but not limited to the following:  \n",
    "1. Mathematical. \n",
    "2. Logical.\n",
    "3. Shape Manipulation. \n",
    "4. Sorting.\n",
    "5. Random Simulation. [10]\n",
    "\n",
    "Note: For the purpose of the assignment random simulation (sampling) will be the main area of focus and the ***numpy.random*** package.\n",
    "\n",
    "\n",
    "### Random Sampling & the *numpy.random* Packcage\n",
    "\n",
    "Random sampling is a method used to select a sample of data from a larger data population.  \n",
    "In random sampling each sample of the data population has an equal chance of being selected. This selection is meant to be a netural and unbiased portayal of the larger data population it is selected from. If the selection does not represent a netural and unbiased portayal of the larger data population this is known as \"*sampling error*\" [11].  \n",
    "  \n",
    "Random sampling is the best method of selecting samples from the data population you are interested in. The sample selected should portray the data population you are investigating and remove sampling bias. [12]. \n",
    "\n",
    "A package used by Python to generator these random values is ***numpy.random***. This ***numpy.random*** package is used to supplement the Python ***random*** function, with functions for efficiently generating whole arrays of sample values from many kinds of probability distributions [13].  \n",
    "  \n",
    "In order to generate the required psuedorandom numbers (samples) from a population a combination of a BitGenerator and a Generator is used.        \n",
    "* **BitGenerator** - is used to create sequences.\n",
    "* **Generator**  - uses the created sequences to sample from the required statistical distribution [14].\n",
    "* **Psuedorandom Numbers** - \"A set of values or elements that is statistically random, but it is derived from a known starting point and is typically repeated over and over. The algorithm can repeat the sequence, therefore the numbers are not entirely random\".[15]. \n",
    "\n",
    "\n",
    "\n",
    "\n",
    "***"
   ]
  },
  {
   "cell_type": "markdown",
   "metadata": {},
   "source": [
    "### Simple Random Data Functions\n",
    "***"
   ]
  },
  {
   "cell_type": "markdown",
   "metadata": {},
   "source": [
    "### Permutation Functions\n",
    "***"
   ]
  },
  {
   "cell_type": "markdown",
   "metadata": {},
   "source": [
    "### Distribution Functions"
   ]
  },
  {
   "cell_type": "markdown",
   "metadata": {},
   "source": [
    "***\n",
    "### References\n",
    "[1] ProgDA_Assignment. GMIT.  \n",
    "[2] People / Jim Hugunin. Peoplepill. https://peoplepill.com/people/jim-hugunin/      \n",
    "[3] The birth of Numeric.  SciPy History_of_SciPy. https://scipy.github.io/old-wiki/pages/History_of_SciPy    \n",
    "[4] Python Numeric. History. http://people.csail.mit.edu/jrennie/python/numeric/    \n",
    "[5] Definitions from Oxford Languages. Dictionary. https://www.google.com/search?client=firefox-b-d&q=what+is+a+data+set  \n",
    "[6] NumPy. History. https://en.wikipedia.org/wiki/NumPy  \n",
    "[7] People / Travis Oliphant. Peoplepill. https://peoplepill.com/people/travis-oliphant/  \n",
    "[8] Array data structure. Wikipedia. https://en.wikipedia.org/wiki/Array_data_structure  \n",
    "[9] The reunion, aka the birth of NumPy. SciPy History_of_SciPy. https://scipy.github.io/old-wiki/pages/History_of_SciPy   \n",
    "[10] What is NumPy?. Numpy. https://numpy.org/doc/stable/user/whatisnumpy.html#  \n",
    "[11] The Economic Times .Definition of 'Random Sampling'. https://economictimes.indiatimes.com/definition/Random-Sampling  \n",
    "[12] Saul Mcleod.Random Sampling. https://www.simplypsychology.org/sampling.html#:~:text=Random%20samples%20are%20the%20best,time%2C%20effort%20and%20money)   [13]lmiguelvargasf. Differences between numpy.random and random.random in Python.https://stackoverflow.com/questions/7029993/differences-between-numpy-random-and-random-random-in-python#:~:text=From%20Python%20for%20Data%20Analysis,many%20kinds%20of%20probability%20distributions     \n",
    "[14] NumPy .Random sampling (numpy.random).https://numpy.org/doc/stable/reference/random/index.html  \n",
    "[15] encyclopedia.pseudo-random numbers.https://www.pcmag.com/encyclopedia/term/pseudo-random-numbers  \n",
    "\n",
    "***\n",
    "## End"
   ]
  }
 ],
 "metadata": {
  "kernelspec": {
   "display_name": "Python 3",
   "language": "python",
   "name": "python3"
  },
  "language_info": {
   "codemirror_mode": {
    "name": "ipython",
    "version": 3
   },
   "file_extension": ".py",
   "mimetype": "text/x-python",
   "name": "python",
   "nbconvert_exporter": "python",
   "pygments_lexer": "ipython3",
   "version": "3.8.3"
  }
 },
 "nbformat": 4,
 "nbformat_minor": 4
}
